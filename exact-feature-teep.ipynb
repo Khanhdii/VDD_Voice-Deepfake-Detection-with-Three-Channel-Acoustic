{
 "cells": [
  {
   "cell_type": "code",
   "execution_count": 1,
   "id": "513f29ce",
   "metadata": {
    "_cell_guid": "b1076dfc-b9ad-4769-8c92-a6c4dae69d19",
    "_uuid": "8f2839f25d086af736a60e9eeb907d3b93b6e0e5",
    "execution": {
     "iopub.execute_input": "2024-10-16T14:08:31.366369Z",
     "iopub.status.busy": "2024-10-16T14:08:31.365957Z",
     "iopub.status.idle": "2024-10-16T14:08:49.437775Z",
     "shell.execute_reply": "2024-10-16T14:08:49.436650Z"
    },
    "papermill": {
     "duration": 18.079498,
     "end_time": "2024-10-16T14:08:49.440523",
     "exception": false,
     "start_time": "2024-10-16T14:08:31.361025",
     "status": "completed"
    },
    "tags": []
   },
   "outputs": [],
   "source": [
    "import numpy as np\n",
    "import pandas as pd\n",
    "import os\n",
    "import librosa\n",
    "import matplotlib.pyplot as plt\n",
    "import IPython\n",
    "from sklearn.model_selection import train_test_split\n",
    "from sklearn.preprocessing import LabelEncoder\n",
    "from tensorflow.keras.models import Sequential\n",
    "from tensorflow.keras.layers import Dense, Activation,Reshape,MaxPooling2D, Dropout, Conv2D, MaxPool2D, Flatten\n",
    "from tensorflow.keras.utils import to_categorical\n",
    "import tensorflow as tf\n",
    "from tensorflow.keras import layers, models, Model\n",
    "from tensorflow.keras.utils import to_categorical\n",
    "from tensorflow.keras.applications import MobileNet\n",
    "from tensorflow.keras.layers import Dense, GlobalAveragePooling2D\n",
    "from tensorflow.keras.applications import ResNet50\n",
    "import matplotlib.pyplot as plt\n",
    "from sklearn.metrics import roc_curve\n",
    "import warnings\n",
    "warnings.filterwarnings('ignore')\n",
    "from tensorflow.keras.applications import NASNetLarge\n",
    "from tensorflow.keras.models import Model\n",
    "from tensorflow.keras.layers import GlobalAveragePooling2D, Dense\n",
    "from tqdm import tqdm"
   ]
  },
  {
   "cell_type": "code",
   "execution_count": 2,
   "id": "fd8f5800",
   "metadata": {
    "execution": {
     "iopub.execute_input": "2024-10-16T14:08:49.448484Z",
     "iopub.status.busy": "2024-10-16T14:08:49.447858Z",
     "iopub.status.idle": "2024-10-16T14:08:49.453786Z",
     "shell.execute_reply": "2024-10-16T14:08:49.452778Z"
    },
    "papermill": {
     "duration": 0.012071,
     "end_time": "2024-10-16T14:08:49.455874",
     "exception": false,
     "start_time": "2024-10-16T14:08:49.443803",
     "status": "completed"
    },
    "tags": []
   },
   "outputs": [],
   "source": [
    "base_path = '/kaggle/input/asvpoof-2019-dataset/LA/LA'\n",
    "protocol_dir = os.path.join(base_path, 'ASVspoof2019_LA_cm_protocols')\n",
    "train_dir = os.path.join(base_path, 'ASVspoof2019_LA_train', 'flac')\n",
    "dev_dir = os.path.join(base_path, 'ASVspoof2019_LA_dev', 'flac')\n",
    "eval_dir = os.path.join(base_path, 'ASVspoof2019_LA_eval', 'flac')"
   ]
  },
  {
   "cell_type": "code",
   "execution_count": 3,
   "id": "3e709feb",
   "metadata": {
    "execution": {
     "iopub.execute_input": "2024-10-16T14:08:49.463015Z",
     "iopub.status.busy": "2024-10-16T14:08:49.462636Z",
     "iopub.status.idle": "2024-10-16T14:08:49.471799Z",
     "shell.execute_reply": "2024-10-16T14:08:49.470649Z"
    },
    "papermill": {
     "duration": 0.015312,
     "end_time": "2024-10-16T14:08:49.474045",
     "exception": false,
     "start_time": "2024-10-16T14:08:49.458733",
     "status": "completed"
    },
    "tags": []
   },
   "outputs": [],
   "source": [
    "def get_file_path(directory, filename):\n",
    "    return os.path.join(directory, f'{filename}.flac')\n",
    "def read_dataset(protocol_path, directory):\n",
    "    \"\"\"Reads the dataset from a protocol file and returns a DataFrame.\"\"\"\n",
    "    df = pd.read_csv(protocol_path, sep=' ', header=None, names=['speaker_id', 'filename', 'system_id', 'null', 'class_name'])\n",
    "    df['filepath'] = df['filename'].apply(lambda x: get_file_path(directory, x))\n",
    "    df.drop('null', axis=1, inplace=True)\n",
    "    df.dropna(inplace=True)\n",
    "    return df\n",
    "\n",
    "def label_to_int(class_name):\n",
    "    if class_name == 'bonafide':\n",
    "        return 0\n",
    "    else:\n",
    "        return 1\n",
    "\n",
    "def add_columns(df, subset):\n",
    "    df['target'] = df['class_name'].apply(label_to_int)\n",
    "    df['subset'] = subset\n",
    "    return df\n",
    "\n",
    "def sample_data(df, n_bonafide, n_spoof):\n",
    "    bonafide = df[df['class_name'] == 'bonafide'].head(n_bonafide)\n",
    "    spoof = df[df['class_name'] != 'bonafide'].head(n_spoof)\n",
    "    return pd.concat([bonafide, spoof])"
   ]
  },
  {
   "cell_type": "code",
   "execution_count": 4,
   "id": "f5bad276",
   "metadata": {
    "execution": {
     "iopub.execute_input": "2024-10-16T14:08:49.481496Z",
     "iopub.status.busy": "2024-10-16T14:08:49.481097Z",
     "iopub.status.idle": "2024-10-16T14:08:50.079257Z",
     "shell.execute_reply": "2024-10-16T14:08:50.078105Z"
    },
    "papermill": {
     "duration": 0.604786,
     "end_time": "2024-10-16T14:08:50.081824",
     "exception": false,
     "start_time": "2024-10-16T14:08:49.477038",
     "status": "completed"
    },
    "tags": []
   },
   "outputs": [],
   "source": [
    "train_df = read_dataset(os.path.join(protocol_dir, 'ASVspoof2019.LA.cm.train.trn.txt'), train_dir)\n",
    "dev_df = read_dataset(os.path.join(protocol_dir, 'ASVspoof2019.LA.cm.dev.trl.txt'), dev_dir)\n",
    "eval_df = read_dataset(os.path.join(protocol_dir, 'ASVspoof2019.LA.cm.eval.trl.txt'), eval_dir)\n",
    "\n",
    "train_df = add_columns(train_df, 'train')\n",
    "dev_df = add_columns(dev_df, 'dev')\n",
    "eval_df = add_columns(eval_df, 'eval')"
   ]
  },
  {
   "cell_type": "code",
   "execution_count": 5,
   "id": "738e5216",
   "metadata": {
    "execution": {
     "iopub.execute_input": "2024-10-16T14:08:50.089243Z",
     "iopub.status.busy": "2024-10-16T14:08:50.088870Z",
     "iopub.status.idle": "2024-10-16T14:08:50.117242Z",
     "shell.execute_reply": "2024-10-16T14:08:50.115876Z"
    },
    "papermill": {
     "duration": 0.03484,
     "end_time": "2024-10-16T14:08:50.119660",
     "exception": false,
     "start_time": "2024-10-16T14:08:50.084820",
     "status": "completed"
    },
    "tags": []
   },
   "outputs": [
    {
     "data": {
      "text/html": [
       "<div>\n",
       "<style scoped>\n",
       "    .dataframe tbody tr th:only-of-type {\n",
       "        vertical-align: middle;\n",
       "    }\n",
       "\n",
       "    .dataframe tbody tr th {\n",
       "        vertical-align: top;\n",
       "    }\n",
       "\n",
       "    .dataframe thead th {\n",
       "        text-align: right;\n",
       "    }\n",
       "</style>\n",
       "<table border=\"1\" class=\"dataframe\">\n",
       "  <thead>\n",
       "    <tr style=\"text-align: right;\">\n",
       "      <th></th>\n",
       "      <th>speaker_id</th>\n",
       "      <th>filename</th>\n",
       "      <th>system_id</th>\n",
       "      <th>class_name</th>\n",
       "      <th>filepath</th>\n",
       "      <th>target</th>\n",
       "      <th>subset</th>\n",
       "    </tr>\n",
       "  </thead>\n",
       "  <tbody>\n",
       "    <tr>\n",
       "      <th>0</th>\n",
       "      <td>LA_0079</td>\n",
       "      <td>LA_T_1138215</td>\n",
       "      <td>-</td>\n",
       "      <td>bonafide</td>\n",
       "      <td>/kaggle/input/asvpoof-2019-dataset/LA/LA/ASVsp...</td>\n",
       "      <td>0</td>\n",
       "      <td>train</td>\n",
       "    </tr>\n",
       "    <tr>\n",
       "      <th>1</th>\n",
       "      <td>LA_0079</td>\n",
       "      <td>LA_T_1271820</td>\n",
       "      <td>-</td>\n",
       "      <td>bonafide</td>\n",
       "      <td>/kaggle/input/asvpoof-2019-dataset/LA/LA/ASVsp...</td>\n",
       "      <td>0</td>\n",
       "      <td>train</td>\n",
       "    </tr>\n",
       "    <tr>\n",
       "      <th>2</th>\n",
       "      <td>LA_0079</td>\n",
       "      <td>LA_T_1272637</td>\n",
       "      <td>-</td>\n",
       "      <td>bonafide</td>\n",
       "      <td>/kaggle/input/asvpoof-2019-dataset/LA/LA/ASVsp...</td>\n",
       "      <td>0</td>\n",
       "      <td>train</td>\n",
       "    </tr>\n",
       "    <tr>\n",
       "      <th>3</th>\n",
       "      <td>LA_0079</td>\n",
       "      <td>LA_T_1276960</td>\n",
       "      <td>-</td>\n",
       "      <td>bonafide</td>\n",
       "      <td>/kaggle/input/asvpoof-2019-dataset/LA/LA/ASVsp...</td>\n",
       "      <td>0</td>\n",
       "      <td>train</td>\n",
       "    </tr>\n",
       "    <tr>\n",
       "      <th>4</th>\n",
       "      <td>LA_0079</td>\n",
       "      <td>LA_T_1341447</td>\n",
       "      <td>-</td>\n",
       "      <td>bonafide</td>\n",
       "      <td>/kaggle/input/asvpoof-2019-dataset/LA/LA/ASVsp...</td>\n",
       "      <td>0</td>\n",
       "      <td>train</td>\n",
       "    </tr>\n",
       "    <tr>\n",
       "      <th>...</th>\n",
       "      <td>...</td>\n",
       "      <td>...</td>\n",
       "      <td>...</td>\n",
       "      <td>...</td>\n",
       "      <td>...</td>\n",
       "      <td>...</td>\n",
       "      <td>...</td>\n",
       "    </tr>\n",
       "    <tr>\n",
       "      <th>121456</th>\n",
       "      <td>LA_0004</td>\n",
       "      <td>LA_E_1665632</td>\n",
       "      <td>-</td>\n",
       "      <td>bonafide</td>\n",
       "      <td>/kaggle/input/asvpoof-2019-dataset/LA/LA/ASVsp...</td>\n",
       "      <td>0</td>\n",
       "      <td>eval</td>\n",
       "    </tr>\n",
       "    <tr>\n",
       "      <th>121457</th>\n",
       "      <td>LA_0038</td>\n",
       "      <td>LA_E_5085671</td>\n",
       "      <td>-</td>\n",
       "      <td>spoof</td>\n",
       "      <td>/kaggle/input/asvpoof-2019-dataset/LA/LA/ASVsp...</td>\n",
       "      <td>1</td>\n",
       "      <td>eval</td>\n",
       "    </tr>\n",
       "    <tr>\n",
       "      <th>121458</th>\n",
       "      <td>LA_0012</td>\n",
       "      <td>LA_E_4926022</td>\n",
       "      <td>-</td>\n",
       "      <td>spoof</td>\n",
       "      <td>/kaggle/input/asvpoof-2019-dataset/LA/LA/ASVsp...</td>\n",
       "      <td>1</td>\n",
       "      <td>eval</td>\n",
       "    </tr>\n",
       "    <tr>\n",
       "      <th>121459</th>\n",
       "      <td>LA_0052</td>\n",
       "      <td>LA_E_2894498</td>\n",
       "      <td>-</td>\n",
       "      <td>bonafide</td>\n",
       "      <td>/kaggle/input/asvpoof-2019-dataset/LA/LA/ASVsp...</td>\n",
       "      <td>0</td>\n",
       "      <td>eval</td>\n",
       "    </tr>\n",
       "    <tr>\n",
       "      <th>121460</th>\n",
       "      <td>LA_0009</td>\n",
       "      <td>LA_E_4689563</td>\n",
       "      <td>-</td>\n",
       "      <td>spoof</td>\n",
       "      <td>/kaggle/input/asvpoof-2019-dataset/LA/LA/ASVsp...</td>\n",
       "      <td>1</td>\n",
       "      <td>eval</td>\n",
       "    </tr>\n",
       "  </tbody>\n",
       "</table>\n",
       "<p>121461 rows × 7 columns</p>\n",
       "</div>"
      ],
      "text/plain": [
       "       speaker_id      filename system_id class_name  \\\n",
       "0         LA_0079  LA_T_1138215         -   bonafide   \n",
       "1         LA_0079  LA_T_1271820         -   bonafide   \n",
       "2         LA_0079  LA_T_1272637         -   bonafide   \n",
       "3         LA_0079  LA_T_1276960         -   bonafide   \n",
       "4         LA_0079  LA_T_1341447         -   bonafide   \n",
       "...           ...           ...       ...        ...   \n",
       "121456    LA_0004  LA_E_1665632         -   bonafide   \n",
       "121457    LA_0038  LA_E_5085671         -      spoof   \n",
       "121458    LA_0012  LA_E_4926022         -      spoof   \n",
       "121459    LA_0052  LA_E_2894498         -   bonafide   \n",
       "121460    LA_0009  LA_E_4689563         -      spoof   \n",
       "\n",
       "                                                 filepath  target subset  \n",
       "0       /kaggle/input/asvpoof-2019-dataset/LA/LA/ASVsp...       0  train  \n",
       "1       /kaggle/input/asvpoof-2019-dataset/LA/LA/ASVsp...       0  train  \n",
       "2       /kaggle/input/asvpoof-2019-dataset/LA/LA/ASVsp...       0  train  \n",
       "3       /kaggle/input/asvpoof-2019-dataset/LA/LA/ASVsp...       0  train  \n",
       "4       /kaggle/input/asvpoof-2019-dataset/LA/LA/ASVsp...       0  train  \n",
       "...                                                   ...     ...    ...  \n",
       "121456  /kaggle/input/asvpoof-2019-dataset/LA/LA/ASVsp...       0   eval  \n",
       "121457  /kaggle/input/asvpoof-2019-dataset/LA/LA/ASVsp...       1   eval  \n",
       "121458  /kaggle/input/asvpoof-2019-dataset/LA/LA/ASVsp...       1   eval  \n",
       "121459  /kaggle/input/asvpoof-2019-dataset/LA/LA/ASVsp...       0   eval  \n",
       "121460  /kaggle/input/asvpoof-2019-dataset/LA/LA/ASVsp...       1   eval  \n",
       "\n",
       "[121461 rows x 7 columns]"
      ]
     },
     "execution_count": 5,
     "metadata": {},
     "output_type": "execute_result"
    }
   ],
   "source": [
    "data_df = pd.concat([train_df, dev_df, eval_df], ignore_index=True)\n",
    "data_df"
   ]
  },
  {
   "cell_type": "code",
   "execution_count": 6,
   "id": "4f34e62d",
   "metadata": {
    "execution": {
     "iopub.execute_input": "2024-10-16T14:08:50.128311Z",
     "iopub.status.busy": "2024-10-16T14:08:50.127926Z",
     "iopub.status.idle": "2024-10-16T14:09:05.267310Z",
     "shell.execute_reply": "2024-10-16T14:09:05.265937Z"
    },
    "papermill": {
     "duration": 15.147364,
     "end_time": "2024-10-16T14:09:05.270328",
     "exception": false,
     "start_time": "2024-10-16T14:08:50.122964",
     "status": "completed"
    },
    "tags": []
   },
   "outputs": [
    {
     "name": "stdout",
     "output_type": "stream",
     "text": [
      "Collecting spafe\r\n",
      "  Downloading spafe-0.3.3-py3-none-any.whl.metadata (9.0 kB)\r\n",
      "Requirement already satisfied: numpy>=1.21 in /opt/conda/lib/python3.10/site-packages (from spafe) (1.26.4)\r\n",
      "Requirement already satisfied: scipy>=1.7.3 in /opt/conda/lib/python3.10/site-packages (from spafe) (1.14.0)\r\n",
      "Requirement already satisfied: typing-extensions in /opt/conda/lib/python3.10/site-packages (from spafe) (4.12.2)\r\n",
      "Downloading spafe-0.3.3-py3-none-any.whl (93 kB)\r\n",
      "\u001b[2K   \u001b[90m━━━━━━━━━━━━━━━━━━━━━━━━━━━━━━━━━━━━━━━━\u001b[0m \u001b[32m94.0/94.0 kB\u001b[0m \u001b[31m1.2 MB/s\u001b[0m eta \u001b[36m0:00:00\u001b[0m\r\n",
      "\u001b[?25hInstalling collected packages: spafe\r\n",
      "Successfully installed spafe-0.3.3\r\n"
     ]
    }
   ],
   "source": [
    "!pip install spafe"
   ]
  },
  {
   "cell_type": "code",
   "execution_count": 7,
   "id": "39c2e940",
   "metadata": {
    "execution": {
     "iopub.execute_input": "2024-10-16T14:09:05.280069Z",
     "iopub.status.busy": "2024-10-16T14:09:05.279644Z",
     "iopub.status.idle": "2024-10-16T14:09:22.682498Z",
     "shell.execute_reply": "2024-10-16T14:09:22.681183Z"
    },
    "papermill": {
     "duration": 17.410716,
     "end_time": "2024-10-16T14:09:22.685007",
     "exception": false,
     "start_time": "2024-10-16T14:09:05.274291",
     "status": "completed"
    },
    "tags": []
   },
   "outputs": [
    {
     "name": "stdout",
     "output_type": "stream",
     "text": [
      "CQCC Features Shape: (438, 70)\n"
     ]
    }
   ],
   "source": [
    "from spafe.features.cqcc import cqcc\n",
    "\n",
    "def extract_cqcc(audio, sr, n_cqcc=200):\n",
    "    # Gọi hàm cqcc từ thư viện spafe\n",
    "    cqcc_features = cqcc(audio, fs=sr, num_ceps=n_cqcc)\n",
    "    return cqcc_features\n",
    "\n",
    "# Load file âm thanh\n",
    "audio_path = data_df['filepath'][1]\n",
    "audio, sr = librosa.load(audio_path, sr=None)\n",
    "\n",
    "# Trích xuất CQCC\n",
    "cqcc_features = extract_cqcc(audio, sr)\n",
    "print(\"CQCC Features Shape:\", cqcc_features.shape)"
   ]
  },
  {
   "cell_type": "code",
   "execution_count": 8,
   "id": "db5bd688",
   "metadata": {
    "execution": {
     "iopub.execute_input": "2024-10-16T14:09:22.695277Z",
     "iopub.status.busy": "2024-10-16T14:09:22.694601Z"
    },
    "papermill": {
     "duration": 20164.183904,
     "end_time": "2024-10-16T19:45:26.873153",
     "exception": false,
     "start_time": "2024-10-16T14:09:22.689249",
     "status": "completed"
    },
    "tags": []
   },
   "outputs": [
    {
     "name": "stderr",
     "output_type": "stream",
     "text": [
      " 97%|█████████▋| 117466/121461 [5:35:56<12:28,  5.34it/s]"
     ]
    }
   ],
   "source": [
    "tqdm.pandas()\n",
    "\n",
    "def extract_features(file_path, max_length=100, n_mfcc=100):\n",
    "    audio, sr = librosa.load(file_path, sr=16000)\n",
    "\n",
    "    # Extract MFCCs\n",
    "    mfccs = librosa.feature.mfcc(y=audio, sr=sr, n_mfcc=n_mfcc)  # Reduced number for efficiency\n",
    "\n",
    "    # Extract Mel_spectrogram\n",
    "    cqcc_ = cqcc(audio, fs=sr, num_ceps=n_mfcc)\n",
    "\n",
    "    # Load the audio file (replace 'your_audio_file.wav' with your file)\n",
    "    audio_path = data_df['filepath'][0]\n",
    "    y, sr = librosa.load(audio_path, sr=None)  # y is the audio time series, sr is the sampling rate\n",
    "\n",
    "    # Calculate the short-time Fourier transform (STFT) to get the spectrogram\n",
    "    D = np.abs(librosa.stft(y))\n",
    "\n",
    "    # Convert amplitude spectrogram to decibel units\n",
    "    DB = librosa.amplitude_to_db(D, ref=np.max)\n",
    "    \n",
    "\n",
    "    # Ensure all features have the same time dimension\n",
    "    min_length = min(mfccs.shape[1], DB.shape[1], cqcc_.shape[1])\n",
    "    if min_length < max_length:\n",
    "        mfccs = np.pad(mfccs, ((0,max(0,max_length - mfccs.shape[0])), (0, max(0,max_length - mfccs.shape[1]))), mode='constant')\n",
    "        cqcc_ = np.pad(cqcc_, ((0, max(0,max_length - cqcc_.shape[0])), (0, max(0,max_length - cqcc_.shape[1]))), mode='constant')\n",
    "        DB = np.pad(DB, ((0,max(0,max_length - DB.shape[0])), (0, max(0,max_length - DB.shape[1]))), mode='constant')\n",
    "   \n",
    "    mfccs = mfccs[:n_mfcc, :max_length]\n",
    "    cqcc_ = cqcc_[:n_mfcc, :max_length]\n",
    "    DB = DB[:n_mfcc, :max_length]\n",
    "        \n",
    "    combined_features = np.stack([mfccs, cqcc_, DB], axis=-1)\n",
    "\n",
    "    return combined_features\n",
    "\n",
    "# Assuming data_df is a DataFrame and 'filepath' is a column with audio file paths\n",
    "features = data_df['filepath'].progress_apply(extract_features)"
   ]
  },
  {
   "cell_type": "code",
   "execution_count": null,
   "id": "8f5a2bd7",
   "metadata": {
    "papermill": {
     "duration": null,
     "end_time": null,
     "exception": null,
     "start_time": null,
     "status": "completed"
    },
    "tags": []
   },
   "outputs": [],
   "source": [
    "X = np.array(data_df['feature'].tolist())\n",
    "np.save('/kaggle/working/feature_LA_MFCC_CQCC_Spectrogram.npy', X)"
   ]
  }
 ],
 "metadata": {
  "kaggle": {
   "accelerator": "none",
   "dataSources": [
    {
     "datasetId": 2286778,
     "sourceId": 3842332,
     "sourceType": "datasetVersion"
    }
   ],
   "dockerImageVersionId": 30761,
   "isGpuEnabled": false,
   "isInternetEnabled": true,
   "language": "python",
   "sourceType": "notebook"
  },
  "kernelspec": {
   "display_name": "Python 3",
   "language": "python",
   "name": "python3"
  },
  "language_info": {
   "codemirror_mode": {
    "name": "ipython",
    "version": 3
   },
   "file_extension": ".py",
   "mimetype": "text/x-python",
   "name": "python",
   "nbconvert_exporter": "python",
   "pygments_lexer": "ipython3",
   "version": "3.10.14"
  },
  "papermill": {
   "default_parameters": {},
   "duration": 20227.464116,
   "end_time": "2024-10-16T19:45:35.833463",
   "environment_variables": {},
   "exception": null,
   "input_path": "__notebook__.ipynb",
   "output_path": "__notebook__.ipynb",
   "parameters": {},
   "start_time": "2024-10-16T14:08:28.369347",
   "version": "2.6.0"
  }
 },
 "nbformat": 4,
 "nbformat_minor": 5
}
